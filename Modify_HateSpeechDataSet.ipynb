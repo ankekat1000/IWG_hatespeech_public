{
 "cells": [
  {
   "cell_type": "markdown",
   "metadata": {},
   "source": [
    "## Read & Modify Hate Speech Data Set"
   ]
  },
  {
   "cell_type": "code",
   "execution_count": 57,
   "metadata": {},
   "outputs": [],
   "source": [
    "import pandas as pd"
   ]
  },
  {
   "cell_type": "code",
   "execution_count": 58,
   "metadata": {},
   "outputs": [],
   "source": [
    "df = pd.read_csv(\"german hatespeech refugees.csv\")"
   ]
  },
  {
   "cell_type": "code",
   "execution_count": 59,
   "metadata": {},
   "outputs": [
    {
     "data": {
      "text/html": [
       "<div>\n",
       "<style scoped>\n",
       "    .dataframe tbody tr th:only-of-type {\n",
       "        vertical-align: middle;\n",
       "    }\n",
       "\n",
       "    .dataframe tbody tr th {\n",
       "        vertical-align: top;\n",
       "    }\n",
       "\n",
       "    .dataframe thead th {\n",
       "        text-align: right;\n",
       "    }\n",
       "</style>\n",
       "<table border=\"1\" class=\"dataframe\">\n",
       "  <thead>\n",
       "    <tr style=\"text-align: right;\">\n",
       "      <th></th>\n",
       "      <th>Tweet</th>\n",
       "      <th>HatespeechOrNot (Expert 1)</th>\n",
       "      <th>HatespeechOrNot (Expert 2)</th>\n",
       "      <th>Hatespeech Rating (Expert 2)</th>\n",
       "    </tr>\n",
       "  </thead>\n",
       "  <tbody>\n",
       "    <tr>\n",
       "      <th>0</th>\n",
       "      <td>#Rosenmontag ist abgesagt. #Rapefugees also wi...</td>\n",
       "      <td>YES</td>\n",
       "      <td>NO</td>\n",
       "      <td>5</td>\n",
       "    </tr>\n",
       "    <tr>\n",
       "      <th>1</th>\n",
       "      <td>bitte nicht die #Türkei zum #EU-Mitglied mache...</td>\n",
       "      <td>NO</td>\n",
       "      <td>NO</td>\n",
       "      <td>1</td>\n",
       "    </tr>\n",
       "    <tr>\n",
       "      <th>2</th>\n",
       "      <td>Wieso bekommen #rapefugees mehr als unsere Har...</td>\n",
       "      <td>NO</td>\n",
       "      <td>NO</td>\n",
       "      <td>3</td>\n",
       "    </tr>\n",
       "    <tr>\n",
       "      <th>3</th>\n",
       "      <td>Den verfluchten #Rapefugees den Krieg erklären...</td>\n",
       "      <td>NO</td>\n",
       "      <td>YES</td>\n",
       "      <td>4</td>\n",
       "    </tr>\n",
       "    <tr>\n",
       "      <th>4</th>\n",
       "      <td>War das Wochenende im Ruhrpott unterwegs. Über...</td>\n",
       "      <td>YES</td>\n",
       "      <td>YES</td>\n",
       "      <td>6</td>\n",
       "    </tr>\n",
       "  </tbody>\n",
       "</table>\n",
       "</div>"
      ],
      "text/plain": [
       "                                               Tweet  \\\n",
       "0  #Rosenmontag ist abgesagt. #Rapefugees also wi...   \n",
       "1  bitte nicht die #Türkei zum #EU-Mitglied mache...   \n",
       "2  Wieso bekommen #rapefugees mehr als unsere Har...   \n",
       "3  Den verfluchten #Rapefugees den Krieg erklären...   \n",
       "4  War das Wochenende im Ruhrpott unterwegs. Über...   \n",
       "\n",
       "  HatespeechOrNot (Expert 1) HatespeechOrNot (Expert 2)  \\\n",
       "0                        YES                         NO   \n",
       "1                         NO                         NO   \n",
       "2                         NO                         NO   \n",
       "3                         NO                        YES   \n",
       "4                        YES                        YES   \n",
       "\n",
       "   Hatespeech Rating (Expert 2)  \n",
       "0                             5  \n",
       "1                             1  \n",
       "2                             3  \n",
       "3                             4  \n",
       "4                             6  "
      ]
     },
     "execution_count": 59,
     "metadata": {},
     "output_type": "execute_result"
    }
   ],
   "source": [
    "df.head()"
   ]
  },
  {
   "cell_type": "code",
   "execution_count": 60,
   "metadata": {},
   "outputs": [
    {
     "data": {
      "text/plain": [
       "1    176\n",
       "2    107\n",
       "4     75\n",
       "3     68\n",
       "5     30\n",
       "6     13\n",
       "Name: Hatespeech Rating (Expert 2), dtype: int64"
      ]
     },
     "execution_count": 60,
     "metadata": {},
     "output_type": "execute_result"
    }
   ],
   "source": [
    "df[\"Hatespeech Rating (Expert 2)\"].value_counts()"
   ]
  },
  {
   "cell_type": "code",
   "execution_count": 61,
   "metadata": {},
   "outputs": [
    {
     "data": {
      "text/plain": [
       "0       YESNO\n",
       "1        NONO\n",
       "2        NONO\n",
       "3       NOYES\n",
       "4      YESYES\n",
       "        ...  \n",
       "464     YESNO\n",
       "465      NONO\n",
       "466     YESNO\n",
       "467      NONO\n",
       "468    YESYES\n",
       "Length: 469, dtype: object"
      ]
     },
     "execution_count": 61,
     "metadata": {},
     "output_type": "execute_result"
    }
   ],
   "source": [
    "df['HatespeechOrNot (Expert 1)'] + df['HatespeechOrNot (Expert 2)']"
   ]
  },
  {
   "cell_type": "code",
   "execution_count": 62,
   "metadata": {},
   "outputs": [],
   "source": [
    "def f(row):\n",
    "    \n",
    "    if row['HatespeechOrNot (Expert 1)'] + row['HatespeechOrNot (Expert 2)'] == \"NONO\" :\n",
    "        val = \"NO\"\n",
    "    else:\n",
    "        val = \"YES\"\n",
    "    return val"
   ]
  },
  {
   "cell_type": "code",
   "execution_count": 63,
   "metadata": {},
   "outputs": [],
   "source": [
    "df[\"HateSpeech\"] = df.apply(f, axis=1)"
   ]
  },
  {
   "cell_type": "code",
   "execution_count": 64,
   "metadata": {},
   "outputs": [
    {
     "data": {
      "text/html": [
       "<div>\n",
       "<style scoped>\n",
       "    .dataframe tbody tr th:only-of-type {\n",
       "        vertical-align: middle;\n",
       "    }\n",
       "\n",
       "    .dataframe tbody tr th {\n",
       "        vertical-align: top;\n",
       "    }\n",
       "\n",
       "    .dataframe thead th {\n",
       "        text-align: right;\n",
       "    }\n",
       "</style>\n",
       "<table border=\"1\" class=\"dataframe\">\n",
       "  <thead>\n",
       "    <tr style=\"text-align: right;\">\n",
       "      <th></th>\n",
       "      <th>Tweet</th>\n",
       "      <th>HatespeechOrNot (Expert 1)</th>\n",
       "      <th>HatespeechOrNot (Expert 2)</th>\n",
       "      <th>Hatespeech Rating (Expert 2)</th>\n",
       "      <th>HateSpeech</th>\n",
       "    </tr>\n",
       "  </thead>\n",
       "  <tbody>\n",
       "    <tr>\n",
       "      <th>0</th>\n",
       "      <td>#Rosenmontag ist abgesagt. #Rapefugees also wi...</td>\n",
       "      <td>YES</td>\n",
       "      <td>NO</td>\n",
       "      <td>5</td>\n",
       "      <td>YES</td>\n",
       "    </tr>\n",
       "    <tr>\n",
       "      <th>1</th>\n",
       "      <td>bitte nicht die #Türkei zum #EU-Mitglied mache...</td>\n",
       "      <td>NO</td>\n",
       "      <td>NO</td>\n",
       "      <td>1</td>\n",
       "      <td>NO</td>\n",
       "    </tr>\n",
       "    <tr>\n",
       "      <th>2</th>\n",
       "      <td>Wieso bekommen #rapefugees mehr als unsere Har...</td>\n",
       "      <td>NO</td>\n",
       "      <td>NO</td>\n",
       "      <td>3</td>\n",
       "      <td>NO</td>\n",
       "    </tr>\n",
       "    <tr>\n",
       "      <th>3</th>\n",
       "      <td>Den verfluchten #Rapefugees den Krieg erklären...</td>\n",
       "      <td>NO</td>\n",
       "      <td>YES</td>\n",
       "      <td>4</td>\n",
       "      <td>YES</td>\n",
       "    </tr>\n",
       "    <tr>\n",
       "      <th>4</th>\n",
       "      <td>War das Wochenende im Ruhrpott unterwegs. Über...</td>\n",
       "      <td>YES</td>\n",
       "      <td>YES</td>\n",
       "      <td>6</td>\n",
       "      <td>YES</td>\n",
       "    </tr>\n",
       "  </tbody>\n",
       "</table>\n",
       "</div>"
      ],
      "text/plain": [
       "                                               Tweet  \\\n",
       "0  #Rosenmontag ist abgesagt. #Rapefugees also wi...   \n",
       "1  bitte nicht die #Türkei zum #EU-Mitglied mache...   \n",
       "2  Wieso bekommen #rapefugees mehr als unsere Har...   \n",
       "3  Den verfluchten #Rapefugees den Krieg erklären...   \n",
       "4  War das Wochenende im Ruhrpott unterwegs. Über...   \n",
       "\n",
       "  HatespeechOrNot (Expert 1) HatespeechOrNot (Expert 2)  \\\n",
       "0                        YES                         NO   \n",
       "1                         NO                         NO   \n",
       "2                         NO                         NO   \n",
       "3                         NO                        YES   \n",
       "4                        YES                        YES   \n",
       "\n",
       "   Hatespeech Rating (Expert 2) HateSpeech  \n",
       "0                             5        YES  \n",
       "1                             1         NO  \n",
       "2                             3         NO  \n",
       "3                             4        YES  \n",
       "4                             6        YES  "
      ]
     },
     "execution_count": 64,
     "metadata": {},
     "output_type": "execute_result"
    }
   ],
   "source": [
    "df.head()"
   ]
  },
  {
   "cell_type": "code",
   "execution_count": 65,
   "metadata": {},
   "outputs": [
    {
     "data": {
      "text/plain": [
       "NO     315\n",
       "YES    154\n",
       "Name: HateSpeech, dtype: int64"
      ]
     },
     "execution_count": 65,
     "metadata": {},
     "output_type": "execute_result"
    }
   ],
   "source": [
    "df[\"HateSpeech\"].value_counts()"
   ]
  },
  {
   "cell_type": "code",
   "execution_count": 66,
   "metadata": {},
   "outputs": [],
   "source": [
    "df = df[[\"Tweet\", \"HateSpeech\" ]]"
   ]
  },
  {
   "cell_type": "code",
   "execution_count": 67,
   "metadata": {},
   "outputs": [],
   "source": [
    "df.to_csv(\"HateSpeech_Tweets_DataSet.csv\", encoding=\"utf-8\",index=None)"
   ]
  },
  {
   "cell_type": "code",
   "execution_count": 68,
   "metadata": {},
   "outputs": [],
   "source": [
    "df = pd.read_csv(\"HateSpeech_Tweets_DataSet.csv\")"
   ]
  },
  {
   "cell_type": "code",
   "execution_count": 69,
   "metadata": {},
   "outputs": [
    {
     "data": {
      "text/html": [
       "<div>\n",
       "<style scoped>\n",
       "    .dataframe tbody tr th:only-of-type {\n",
       "        vertical-align: middle;\n",
       "    }\n",
       "\n",
       "    .dataframe tbody tr th {\n",
       "        vertical-align: top;\n",
       "    }\n",
       "\n",
       "    .dataframe thead th {\n",
       "        text-align: right;\n",
       "    }\n",
       "</style>\n",
       "<table border=\"1\" class=\"dataframe\">\n",
       "  <thead>\n",
       "    <tr style=\"text-align: right;\">\n",
       "      <th></th>\n",
       "      <th>Tweet</th>\n",
       "      <th>HateSpeech</th>\n",
       "    </tr>\n",
       "  </thead>\n",
       "  <tbody>\n",
       "    <tr>\n",
       "      <th>0</th>\n",
       "      <td>#Rosenmontag ist abgesagt. #Rapefugees also wi...</td>\n",
       "      <td>YES</td>\n",
       "    </tr>\n",
       "    <tr>\n",
       "      <th>1</th>\n",
       "      <td>bitte nicht die #Türkei zum #EU-Mitglied mache...</td>\n",
       "      <td>NO</td>\n",
       "    </tr>\n",
       "    <tr>\n",
       "      <th>2</th>\n",
       "      <td>Wieso bekommen #rapefugees mehr als unsere Har...</td>\n",
       "      <td>NO</td>\n",
       "    </tr>\n",
       "    <tr>\n",
       "      <th>3</th>\n",
       "      <td>Den verfluchten #Rapefugees den Krieg erklären...</td>\n",
       "      <td>YES</td>\n",
       "    </tr>\n",
       "    <tr>\n",
       "      <th>4</th>\n",
       "      <td>War das Wochenende im Ruhrpott unterwegs. Über...</td>\n",
       "      <td>YES</td>\n",
       "    </tr>\n",
       "    <tr>\n",
       "      <th>...</th>\n",
       "      <td>...</td>\n",
       "      <td>...</td>\n",
       "    </tr>\n",
       "    <tr>\n",
       "      <th>464</th>\n",
       "      <td>Wo ist das Problem? Für Moslems ist es doch sc...</td>\n",
       "      <td>YES</td>\n",
       "    </tr>\n",
       "    <tr>\n",
       "      <th>465</th>\n",
       "      <td>Simone #Peter hat seit 7 Monaten und weit über...</td>\n",
       "      <td>NO</td>\n",
       "    </tr>\n",
       "    <tr>\n",
       "      <th>466</th>\n",
       "      <td>Bin gespannt auf #onebillionrising. Hoffentlic...</td>\n",
       "      <td>YES</td>\n",
       "    </tr>\n",
       "    <tr>\n",
       "      <th>467</th>\n",
       "      <td>#kipping ist so dumm! wenn #asylanten Wohnunge...</td>\n",
       "      <td>NO</td>\n",
       "    </tr>\n",
       "    <tr>\n",
       "      <th>468</th>\n",
       "      <td>Zukünft. #CDU Wähler aus #MEA marodieren auf M...</td>\n",
       "      <td>YES</td>\n",
       "    </tr>\n",
       "  </tbody>\n",
       "</table>\n",
       "<p>469 rows × 2 columns</p>\n",
       "</div>"
      ],
      "text/plain": [
       "                                                 Tweet HateSpeech\n",
       "0    #Rosenmontag ist abgesagt. #Rapefugees also wi...        YES\n",
       "1    bitte nicht die #Türkei zum #EU-Mitglied mache...         NO\n",
       "2    Wieso bekommen #rapefugees mehr als unsere Har...         NO\n",
       "3    Den verfluchten #Rapefugees den Krieg erklären...        YES\n",
       "4    War das Wochenende im Ruhrpott unterwegs. Über...        YES\n",
       "..                                                 ...        ...\n",
       "464  Wo ist das Problem? Für Moslems ist es doch sc...        YES\n",
       "465  Simone #Peter hat seit 7 Monaten und weit über...         NO\n",
       "466  Bin gespannt auf #onebillionrising. Hoffentlic...        YES\n",
       "467  #kipping ist so dumm! wenn #asylanten Wohnunge...         NO\n",
       "468  Zukünft. #CDU Wähler aus #MEA marodieren auf M...        YES\n",
       "\n",
       "[469 rows x 2 columns]"
      ]
     },
     "execution_count": 69,
     "metadata": {},
     "output_type": "execute_result"
    }
   ],
   "source": [
    "df"
   ]
  },
  {
   "cell_type": "code",
   "execution_count": null,
   "metadata": {},
   "outputs": [],
   "source": []
  }
 ],
 "metadata": {
  "kernelspec": {
   "display_name": "Python 3",
   "language": "python",
   "name": "python3"
  },
  "language_info": {
   "codemirror_mode": {
    "name": "ipython",
    "version": 3
   },
   "file_extension": ".py",
   "mimetype": "text/x-python",
   "name": "python",
   "nbconvert_exporter": "python",
   "pygments_lexer": "ipython3",
   "version": "3.8.3"
  }
 },
 "nbformat": 4,
 "nbformat_minor": 4
}
